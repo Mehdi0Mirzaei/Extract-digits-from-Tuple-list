{
 "cells": [
  {
   "cell_type": "code",
   "execution_count": 31,
   "id": "22e53b55",
   "metadata": {},
   "outputs": [
    {
     "name": "stdout",
     "output_type": "stream",
     "text": [
      "The original list is : [(15, 3), (3, 9), (1, 10), (99, 2)]\n",
      "The extracted digits : [0, 1, 5, 9, 3, 2]\n"
     ]
    }
   ],
   "source": [
    "# initializing list\n",
    "test_list = [(15, 3), (3, 9), (1, 10), (99, 2)]\n",
    " \n",
    "# printing original list\n",
    "print(\"The original list is : \" + str(test_list))\n",
    "x=\"\"\n",
    "# Extract digits from Tuple list\n",
    "for i in test_list:\n",
    "    for j in i:\n",
    "        x+=str(j)\n",
    "res=list(map(int,set(x)))\n",
    "# printing result\n",
    "print(\"The extracted digits : \" + str(res))"
   ]
  },
  {
   "cell_type": "code",
   "execution_count": 32,
   "id": "a8a3c036",
   "metadata": {},
   "outputs": [
    {
     "name": "stdout",
     "output_type": "stream",
     "text": [
      "The original list is : [(15, 3), (3, 9), (1, 10), (99, 2)]\n",
      "The extracted digits : [0, 1, 5, 9, 3, 2]\n"
     ]
    }
   ],
   "source": [
    "# Initializing list\n",
    "test_list = [(15, 3), (3, 9), (1, 10), (99, 2)]\n",
    " \n",
    "# Printing original list\n",
    "print(\"The original list is : \" + str(test_list))\n",
    " \n",
    "# Extracting digits from Tuple list using list comprehensions\n",
    "temp = ''.join([str(i) for sublist in test_list for i in sublist])\n",
    "result = set(temp)\n",
    "result = [int(i) for i in result]\n",
    "# Printing result\n",
    "print(\"The extracted digits : \" + str(list(result)))"
   ]
  },
  {
   "cell_type": "code",
   "execution_count": 33,
   "id": "827abe87",
   "metadata": {},
   "outputs": [
    {
     "name": "stdout",
     "output_type": "stream",
     "text": [
      "The original list is : [(15, 3), (3, 9), (1, 10), (99, 2)]\n",
      "The extracted digits : [0, 1, 2, 3, 5, 9]\n"
     ]
    }
   ],
   "source": [
    "import heapq\n",
    " \n",
    "# Initializing list\n",
    "test_list = [(15, 3), (3, 9), (1, 10), (99, 2)]\n",
    " \n",
    "# Printing original list\n",
    "print(\"The original list is : \" + str(test_list))\n",
    " \n",
    "# Extracting digits from Tuple list using heapq\n",
    "result = []\n",
    "for tpl in test_list:\n",
    "    result.extend(list(tpl))\n",
    " # Converting the result list to heap\n",
    "heapq.heapify(result)\n",
    " \n",
    "# Extracting unique digits from heap\n",
    "unique_digits = set()\n",
    "while result:\n",
    "    digits = str(heapq.heappop(result))\n",
    "    for digit in digits:\n",
    "        unique_digits.add(int(digit))\n",
    " # Printing result\n",
    "print(\"The extracted digits : \" + str(list(unique_digits)))"
   ]
  },
  {
   "cell_type": "code",
   "execution_count": null,
   "id": "c85d935e",
   "metadata": {},
   "outputs": [],
   "source": []
  }
 ],
 "metadata": {
  "kernelspec": {
   "display_name": "Python 3 (ipykernel)",
   "language": "python",
   "name": "python3"
  },
  "language_info": {
   "codemirror_mode": {
    "name": "ipython",
    "version": 3
   },
   "file_extension": ".py",
   "mimetype": "text/x-python",
   "name": "python",
   "nbconvert_exporter": "python",
   "pygments_lexer": "ipython3",
   "version": "3.9.13"
  }
 },
 "nbformat": 4,
 "nbformat_minor": 5
}
